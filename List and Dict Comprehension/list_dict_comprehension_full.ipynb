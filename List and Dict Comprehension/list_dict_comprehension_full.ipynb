{
 "cells": [
  {
   "cell_type": "markdown",
   "id": "4cec643d",
   "metadata": {},
   "source": [
    "# 🧠 Mastering List and Dictionary Comprehensions in Python"
   ]
  },
  {
   "cell_type": "markdown",
   "id": "687a4049",
   "metadata": {},
   "source": [
    "List and dictionary comprehensions are concise, elegant, and efficient ways to create or manipulate collections in Python."
   ]
  },
  {
   "cell_type": "markdown",
   "id": "06a7bd3b",
   "metadata": {},
   "source": [
    "## 🔹 What is a List Comprehension?"
   ]
  },
  {
   "cell_type": "markdown",
   "id": "e960d4da",
   "metadata": {},
   "source": [
    "### ✅ Syntax:\n",
    "```python\n",
    "[expression for item in iterable if condition]```"
   ]
  },
  {
   "cell_type": "code",
   "execution_count": null,
   "id": "8b8bc6d2",
   "metadata": {},
   "outputs": [],
   "source": [
    "numbers = [1, 2, 3, 4]\n",
    "squares = [x**2 for x in numbers]\n",
    "squares"
   ]
  },
  {
   "cell_type": "markdown",
   "id": "a975f5a4",
   "metadata": {},
   "source": [
    "## 🔹 What is a Dictionary Comprehension?"
   ]
  },
  {
   "cell_type": "markdown",
   "id": "c65c62dc",
   "metadata": {},
   "source": [
    "### ✅ Syntax:\n",
    "```python\n",
    "{key: value for item in iterable if condition}```"
   ]
  },
  {
   "cell_type": "code",
   "execution_count": null,
   "id": "6d3ea5f3",
   "metadata": {},
   "outputs": [],
   "source": [
    "scores = {'Alice': 85, 'Bob': 58}\n",
    "passed = {k: v for k, v in scores.items() if v >= 60}\n",
    "passed"
   ]
  },
  {
   "cell_type": "markdown",
   "id": "b6f13902",
   "metadata": {},
   "source": [
    "## 🧩 Practice Problems - List Comprehensions"
   ]
  },
  {
   "cell_type": "code",
   "execution_count": null,
   "id": "28e2990e",
   "metadata": {},
   "outputs": [],
   "source": [
    "numbers = [1, 2, 3, 4, 5, 6, 7, 8, 9, 10]\n",
    "names = ['Alice', 'Bob', 'Charlie', 'David', 'Eve']"
   ]
  },
  {
   "cell_type": "code",
   "execution_count": null,
   "id": "2f2c7b1e",
   "metadata": {},
   "outputs": [],
   "source": [
    "# Odd numbers\n",
    "odds = [n for n in numbers if n % 2 != 0]\n",
    "odds"
   ]
  },
  {
   "cell_type": "code",
   "execution_count": null,
   "id": "f9e6c3c4",
   "metadata": {},
   "outputs": [],
   "source": [
    "# Square numbers > 5\n",
    "squares_gt_5 = [n**2 for n in numbers if n > 5]\n",
    "squares_gt_5"
   ]
  },
  {
   "cell_type": "code",
   "execution_count": null,
   "id": "f5206c0c",
   "metadata": {},
   "outputs": [],
   "source": [
    "# Names longer than 4 characters\n",
    "long_names = [name for name in names if len(name) > 4]\n",
    "long_names"
   ]
  },
  {
   "cell_type": "code",
   "execution_count": null,
   "id": "58508647",
   "metadata": {},
   "outputs": [],
   "source": [
    "# Lowercase names\n",
    "lowercase_names = [name.lower() for name in names]\n",
    "lowercase_names"
   ]
  },
  {
   "cell_type": "code",
   "execution_count": null,
   "id": "ed70f89f",
   "metadata": {},
   "outputs": [],
   "source": [
    "# Tuples of (number, cube)\n",
    "cube_tuples = [(n, n**3) for n in numbers]\n",
    "cube_tuples"
   ]
  },
  {
   "cell_type": "markdown",
   "id": "ff432ae7",
   "metadata": {},
   "source": [
    "## 🧩 Practice Problems - Dictionary Comprehensions"
   ]
  },
  {
   "cell_type": "code",
   "execution_count": null,
   "id": "ccfdd49e",
   "metadata": {},
   "outputs": [],
   "source": [
    "student_scores = {\n",
    "    'Alice': 85,\n",
    "    'Bob': 58,\n",
    "    'Charlie': 95,\n",
    "    'David': 76,\n",
    "    'Eve': 64\n",
    "}"
   ]
  },
  {
   "cell_type": "code",
   "execution_count": null,
   "id": "12b844e9",
   "metadata": {},
   "outputs": [],
   "source": [
    "# Students with score >= 60\n",
    "passed = {k: v for k, v in student_scores.items() if v >= 60}\n",
    "passed"
   ]
  },
  {
   "cell_type": "code",
   "execution_count": null,
   "id": "26704fa0",
   "metadata": {},
   "outputs": [],
   "source": [
    "# Pass/Fail dictionary\n",
    "pass_fail = {k: ('Pass' if v >= 60 else 'Fail') for k, v in student_scores.items()}\n",
    "pass_fail"
   ]
  },
  {
   "cell_type": "code",
   "execution_count": null,
   "id": "3395f864",
   "metadata": {},
   "outputs": [],
   "source": [
    "# Swapped keys and values\n",
    "swapped = {v: k for k, v in student_scores.items()}\n",
    "swapped"
   ]
  },
  {
   "cell_type": "code",
   "execution_count": null,
   "id": "bc9d8106",
   "metadata": {},
   "outputs": [],
   "source": [
    "# Rounded scores\n",
    "rounded_scores = {k: round(v, -1) for k, v in student_scores.items()}\n",
    "rounded_scores"
   ]
  },
  {
   "cell_type": "code",
   "execution_count": null,
   "id": "b67ad8ba",
   "metadata": {},
   "outputs": [],
   "source": [
    "# Bonus points\n",
    "bonus_scores = {k: v + 5 for k, v in student_scores.items()}\n",
    "bonus_scores"
   ]
  },
  {
   "cell_type": "markdown",
   "id": "d1dba89a",
   "metadata": {},
   "source": [
    "## 💼 Advanced Practice"
   ]
  },
  {
   "cell_type": "code",
   "execution_count": null,
   "id": "af55df81",
   "metadata": {},
   "outputs": [],
   "source": [
    "employees = [\n",
    "    {\"name\": \"Alice\", \"age\": 30, \"department\": \"HR\", \"salary\": 50000},\n",
    "    {\"name\": \"Bob\", \"age\": 25, \"department\": \"IT\", \"salary\": 60000},\n",
    "    {\"name\": \"Charlie\", \"age\": 35, \"department\": \"Finance\", \"salary\": 70000},\n",
    "    {\"name\": \"David\", \"age\": 40, \"department\": \"IT\", \"salary\": 80000},\n",
    "    {\"name\": \"Eve\", \"age\": 28, \"department\": \"HR\", \"salary\": 48000}\n",
    "]"
   ]
  },
  {
   "cell_type": "code",
   "execution_count": null,
   "id": "3e831974",
   "metadata": {},
   "outputs": [],
   "source": [
    "# Names of employees with salary > 60000\n",
    "high_salary = [emp['name'] for emp in employees if emp['salary'] > 60000]\n",
    "high_salary"
   ]
  },
  {
   "cell_type": "code",
   "execution_count": null,
   "id": "0ab4bbe8",
   "metadata": {},
   "outputs": [],
   "source": [
    "# Job descriptions\n",
    "job_descriptions = [f\"{emp['name']} works in {emp['department']}\" for emp in employees]\n",
    "job_descriptions"
   ]
  },
  {
   "cell_type": "code",
   "execution_count": null,
   "id": "a22089b0",
   "metadata": {},
   "outputs": [],
   "source": [
    "# Unique departments\n",
    "departments = list({emp['department'] for emp in employees})\n",
    "departments"
   ]
  },
  {
   "cell_type": "code",
   "execution_count": null,
   "id": "03b6b454",
   "metadata": {},
   "outputs": [],
   "source": [
    "# 10% salary raise\n",
    "salary_raise = {emp['name']: emp['salary'] * 1.1 for emp in employees}\n",
    "salary_raise"
   ]
  },
  {
   "cell_type": "code",
   "execution_count": null,
   "id": "87be876f",
   "metadata": {},
   "outputs": [],
   "source": [
    "# Group by department\n",
    "grouped = {}\n",
    "for emp in employees:\n",
    "    grouped.setdefault(emp['department'], []).append(emp['name'])\n",
    "grouped"
   ]
  },
  {
   "cell_type": "code",
   "execution_count": null,
   "id": "326aa3ec",
   "metadata": {},
   "outputs": [],
   "source": [
    "# Flatten nested list\n",
    "nested = [[1, 2], [3, 4], [5, 6]]\n",
    "flattened = [item for sublist in nested for item in sublist]\n",
    "flattened"
   ]
  },
  {
   "cell_type": "code",
   "execution_count": null,
   "id": "1a6e7fb5",
   "metadata": {},
   "outputs": [],
   "source": [
    "# Transpose matrix\n",
    "matrix = [[1, 2, 3], [4, 5, 6]]\n",
    "transposed = [[row[i] for row in matrix] for i in range(len(matrix[0]))]\n",
    "transposed"
   ]
  }
 ],
 "metadata": {},
 "nbformat": 4,
 "nbformat_minor": 5
}